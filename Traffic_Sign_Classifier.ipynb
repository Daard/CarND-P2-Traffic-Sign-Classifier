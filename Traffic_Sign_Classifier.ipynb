{
 "cells": [
  {
   "cell_type": "markdown",
   "metadata": {},
   "source": [
    "# Self-Driving Car Engineer Nanodegree\n",
    "\n",
    "## Deep Learning\n",
    "\n",
    "## Project: Build a Traffic Sign Recognition Classifier\n",
    "\n",
    "In this notebook, a template is provided for you to implement your functionality in stages, which is required to successfully complete this project. If additional code is required that cannot be included in the notebook, be sure that the Python code is successfully imported and included in your submission if necessary. \n",
    "\n",
    "> **Note**: Once you have completed all of the code implementations, you need to finalize your work by exporting the iPython Notebook as an HTML document. Before exporting the notebook to html, all of the code cells need to have been run so that reviewers can see the final implementation and output. You can then export the notebook by using the menu above and navigating to  \\n\",\n",
    "    \"**File -> Download as -> HTML (.html)**. Include the finished document along with this notebook as your submission. \n",
    "\n",
    "In addition to implementing code, there is a writeup to complete. The writeup should be completed in a separate file, which can be either a markdown file or a pdf document. There is a [write up template](https://github.com/udacity/CarND-Traffic-Sign-Classifier-Project/blob/master/writeup_template.md) that can be used to guide the writing process. Completing the code template and writeup template will cover all of the [rubric points](https://review.udacity.com/#!/rubrics/481/view) for this project.\n",
    "\n",
    "The [rubric](https://review.udacity.com/#!/rubrics/481/view) contains \"Stand Out Suggestions\" for enhancing the project beyond the minimum requirements. The stand out suggestions are optional. If you decide to pursue the \"stand out suggestions\", you can include the code in this Ipython notebook and also discuss the results in the writeup file.\n",
    "\n",
    "\n",
    ">**Note:** Code and Markdown cells can be executed using the **Shift + Enter** keyboard shortcut. In addition, Markdown cells can be edited by typically double-clicking the cell to enter edit mode."
   ]
  },
  {
   "cell_type": "markdown",
   "metadata": {},
   "source": [
    "---\n",
    "## Step 0: Load The Data"
   ]
  },
  {
   "cell_type": "code",
   "execution_count": 32,
   "metadata": {},
   "outputs": [],
   "source": [
    "#Imports\n",
    "import pickle\n",
    "import random\n",
    "import numpy as np\n",
    "import matplotlib.pyplot as plt\n",
    "from sklearn.utils import shuffle\n",
    "import cv2\n",
    "import os"
   ]
  },
  {
   "cell_type": "code",
   "execution_count": 33,
   "metadata": {},
   "outputs": [],
   "source": [
    "# Load pickled data\n",
    "\n",
    "# TODO: Fill this in based on where you saved the training and testing data\n",
    "\n",
    "training_file = 'train.p'\n",
    "validation_file = 'valid.p'\n",
    "testing_file = 'test.p'\n",
    "\n",
    "with open(training_file, mode='rb') as f:\n",
    "    train = pickle.load(f)\n",
    "with open(validation_file, mode='rb') as f:\n",
    "    valid = pickle.load(f)\n",
    "with open(testing_file, mode='rb') as f:\n",
    "    test = pickle.load(f)\n",
    "    \n",
    "X_train, y_train = train['features'], train['labels']\n",
    "X_valid, y_valid = valid['features'], valid['labels']\n",
    "X_test, y_test = test['features'], test['labels']"
   ]
  },
  {
   "cell_type": "markdown",
   "metadata": {},
   "source": [
    "---\n",
    "\n",
    "## Step 1: Dataset Summary & Exploration\n",
    "\n",
    "The pickled data is a dictionary with 4 key/value pairs:\n",
    "\n",
    "- `'features'` is a 4D array containing raw pixel data of the traffic sign images, (num examples, width, height, channels).\n",
    "- `'labels'` is a 1D array containing the label/class id of the traffic sign. The file `signnames.csv` contains id -> name mappings for each id.\n",
    "- `'sizes'` is a list containing tuples, (width, height) representing the original width and height the image.\n",
    "- `'coords'` is a list containing tuples, (x1, y1, x2, y2) representing coordinates of a bounding box around the sign in the image. **THESE COORDINATES ASSUME THE ORIGINAL IMAGE. THE PICKLED DATA CONTAINS RESIZED VERSIONS (32 by 32) OF THESE IMAGES**\n",
    "\n",
    "Complete the basic data summary below. Use python, numpy and/or pandas methods to calculate the data summary rather than hard coding the results. For example, the [pandas shape method](http://pandas.pydata.org/pandas-docs/stable/generated/pandas.DataFrame.shape.html) might be useful for calculating some of the summary results. "
   ]
  },
  {
   "cell_type": "markdown",
   "metadata": {},
   "source": [
    "### Provide a Basic Summary of the Data Set Using Python, Numpy and/or Pandas"
   ]
  },
  {
   "cell_type": "code",
   "execution_count": 34,
   "metadata": {},
   "outputs": [
    {
     "name": "stdout",
     "output_type": "stream",
     "text": [
      "Number of training examples = 34799\nNumber of testing examples = 12630\nImage data shape = (32, 32, 3)\nNumber of classes = 43\n(34799, 32, 32, 3)\n"
     ]
    }
   ],
   "source": [
    "# Replace each question mark with the appropriate value. \n",
    "### Use python, pandas or numpy methods rather than hard coding the results\n",
    "\n",
    "# TODO: Number of training examples\n",
    "\n",
    "n_train = len(X_train)\n",
    "\n",
    "# TODO: Number of validation examples\n",
    "n_validation = len(X_valid)\n",
    "\n",
    "# TODO: Number of testing examples.\n",
    "n_test = len(X_test)\n",
    "\n",
    "# TODO: What's the shape of an traffic sign image?\n",
    "image_shape = X_train[0].shape\n",
    "\n",
    "# TODO: How many unique classes/labels there are in the dataset.\n",
    "n_classes = len(np.unique(y_train))\n",
    "\n",
    "print(\"Number of training examples =\", n_train)\n",
    "print(\"Number of testing examples =\", n_test)\n",
    "print(\"Image data shape =\", image_shape)\n",
    "print(\"Number of classes =\", n_classes)\n",
    "print(X_train.shape)"
   ]
  },
  {
   "cell_type": "code",
   "execution_count": 35,
   "metadata": {},
   "outputs": [
    {
     "data": {
      "image/png": "[encoded data removed]",
      "text/plain": [
       "<matplotlib.figure.Figure at 0x132d62dd8>"
      ]
     },
     "metadata": {},
     "output_type": "display_data"
    }
   ],
   "source": [
    "#Random images \n",
    "n = 5\n",
    "indeces = np.random.choice(n_train, n)\n",
    "\n",
    "images = X_train[indeces]\n",
    "labels = y_train[indeces]\n",
    "\n",
    "%matplotlib inline\n",
    "for ind, img in enumerate(images):\n",
    "    plt.subplot(1,n,ind + 1)\n",
    "    plt.imshow(img)\n",
    "    plt.title(labels[ind])\n",
    "plt.show()"
   ]
  },
  {
   "cell_type": "markdown",
   "metadata": {},
   "source": [
    "### Include an exploratory visualization of the dataset"
   ]
  },
  {
   "cell_type": "markdown",
   "metadata": {},
   "source": [
    "Visualize the German Traffic Signs Dataset using the pickled file(s). This is open ended, suggestions include: plotting traffic sign images, plotting the count of each sign, etc. \n",
    "\n",
    "The [Matplotlib](http://matplotlib.org/) [examples](http://matplotlib.org/examples/index.html) and [gallery](http://matplotlib.org/gallery.html) pages are a great resource for doing visualizations in Python.\n",
    "\n",
    "**NOTE:** It's recommended you start with something simple first. If you wish to do more, come back to it after you've completed the rest of the sections. It can be interesting to look at the distribution of classes in the training, validation and test set. Is the distribution the same? Are there more examples of some classes than others?"
   ]
  },
  {
   "cell_type": "markdown",
   "metadata": {},
   "source": [
    "### Data distribution visualization"
   ]
  },
  {
   "cell_type": "code",
   "execution_count": 36,
   "metadata": {},
   "outputs": [
    {
     "data": {
      "image/png": "[encoded data removed]",
      "text/plain": [
       "<matplotlib.figure.Figure at 0x133ac7748>"
      ]
     },
     "metadata": {},
     "output_type": "display_data"
    },
    {
     "data": {
      "image/png": "[encoded data removed]",
      "text/plain": [
       "<matplotlib.figure.Figure at 0x133bdc4e0>"
      ]
     },
     "metadata": {},
     "output_type": "display_data"
    },
    {
     "data": {
      "image/png": "[encoded data removed]",
      "text/plain": [
       "<matplotlib.figure.Figure at 0x133c696a0>"
      ]
     },
     "metadata": {},
     "output_type": "display_data"
    }
   ],
   "source": [
    "# Data exploration visualization code goes here.\n",
    "### Feel free to use as many code cells as needed.\n",
    "%matplotlib inline\n",
    "\n",
    "n_bins = np.unique(y_train)\n",
    "\n",
    "def plot(data, title):\n",
    "    plt.figure(figsize=(20,5))\n",
    "    plt.hist(data, bins=n_bins, width=0.9)  \n",
    "    plt.title(title)\n",
    "    plt.show()\n",
    "\n",
    "plot(y_train, \"Train data distribution\")\n",
    "plot(y_valid, \"Title data distribution\")\n",
    "plot(y_test, \"Test data distribution\")"
   ]
  },
  {
   "cell_type": "markdown",
   "metadata": {},
   "source": [
    "----\n",
    "\n",
    "## Step 2: Design and Test a Model Architecture\n",
    "\n",
    "Design and implement a deep learning model that learns to recognize traffic signs. Train and test your model on the [German Traffic Sign Dataset](http://benchmark.ini.rub.de/?section=gtsrb&subsection=dataset).\n",
    "\n",
    "The LeNet-5 implementation shown in the [classroom](https://classroom.udacity.com/nanodegrees/nd013/parts/fbf77062-5703-404e-b60c-95b78b2f3f9e/modules/6df7ae49-c61c-4bb2-a23e-6527e69209ec/lessons/601ae704-1035-4287-8b11-e2c2716217ad/concepts/d4aca031-508f-4e0b-b493-e7b706120f81) at the end of the CNN lesson is a solid starting point. You'll have to change the number of classes and possibly the preprocessing, but aside from that it's plug and play! \n",
    "\n",
    "With the LeNet-5 solution from the lecture, you should expect a validation set accuracy of about 0.89. To meet specifications, the validation set accuracy will need to be at least 0.93. It is possible to get an even higher accuracy, but 0.93 is the minimum for a successful project submission. \n",
    "\n",
    "There are various aspects to consider when thinking about this problem:\n",
    "\n",
    "- Neural network architecture (is the network over or underfitting?)\n",
    "- Play around preprocessing techniques (normalization, rgb to grayscale, etc)\n",
    "- Number of examples per label (some have more than others).\n",
    "- Generate fake data.\n",
    "\n",
    "Here is an example of a [published baseline model on this problem](http://yann.lecun.com/exdb/publis/pdf/sermanet-ijcnn-11.pdf). It's not required to be familiar with the approach used in the paper but, it's good practice to try to read papers like these."
   ]
  },
  {
   "cell_type": "markdown",
   "metadata": {},
   "source": [
    "### Pre-process the Data Set (normalization, grayscale, etc.)"
   ]
  },
  {
   "cell_type": "markdown",
   "metadata": {},
   "source": [
    "Minimally, the image data should be normalized so that the data has mean zero and equal variance. For image data, `(pixel - 128)/ 128` is a quick way to approximately normalize the data and can be used in this project. \n",
    "\n",
    "Other pre-processing steps are optional. You can try different techniques to see if it improves performance. \n",
    "\n",
    "Use the code cell (or multiple code cells, if necessary) to implement the first step of your project."
   ]
  },
  {
   "cell_type": "code",
   "execution_count": 37,
   "metadata": {},
   "outputs": [],
   "source": [
    "def rand(x):\n",
    "    return x[random.randint(0, len(x) - 1)]\n",
    "\n",
    "def transition(img):\n",
    "    pixels = np.arange(-2,3,1)\n",
    "    x = rand(pixels)\n",
    "    y = rand(pixels)\n",
    "    M = np.float32([[1,0, x],[0,1, y]])\n",
    "    dst = cv2.warpAffine(img, M ,(32, 32))\n",
    "    return dst\n",
    "    \n",
    "def scale(img):    \n",
    "    ratios = [0.875, 1, 1.125]\n",
    "    r = rand(ratios)\n",
    "    res = cv2.resize(img,None,fx=r, fy=r, interpolation = cv2.INTER_CUBIC)\n",
    "    size = [*(res.shape)][0]\n",
    "    dif = size - 32\n",
    "    if(dif > 0):\n",
    "         res = res[2:34, 2:34]\n",
    "    if(dif < 0):\n",
    "         res = np.pad(res, (2 , 2), 'constant')\n",
    "    return res\n",
    "    \n",
    "def rotation(img):\n",
    "    degrees = np.arange(-15, 16, 1)\n",
    "    d = rand(degrees)\n",
    "    rows,cols = img.shape\n",
    "    M = cv2.getRotationMatrix2D((cols/2,rows/2),d,1)\n",
    "    dst = cv2.warpAffine(img,M,(cols,rows))\n",
    "    return dst   \n",
    "\n",
    "def gen_image(img):\n",
    "    tr = transition(img)\n",
    "    res = scale(tr)\n",
    "    rot = rotation(res)\n",
    "    return rot\n",
    "                       \n",
    "def gray_mean(X):\n",
    "    gray = [cv2.cvtColor(x, cv2.COLOR_RGB2GRAY) for x in X]\n",
    "    nX = (np.array(gray, dtype='float32') - 128) / 128\n",
    "    shape = nX.shape\n",
    "    new = (*shape, 1)\n",
    "    return nX.reshape(new)\n",
    "\n",
    "def balanced_data(X, y, label, enough):\n",
    "    indeces = np.where(y == label)\n",
    "    indeces, = indeces\n",
    "    size = len(indeces)\n",
    "    synX = []\n",
    "    synY = []\n",
    "    if (size < enough):\n",
    "        for i in range (enough - size):\n",
    "            new = gen_image(rand(X))\n",
    "            synX.append(gen_image(X[rand(indeces)]))\n",
    "            synY.append(label)\n",
    "    n_X = np.array(synX)\n",
    "    n_y = np.array(synY)\n",
    "    shape = n_X.shape\n",
    "    new_shape = (*shape, 1)\n",
    "    return n_X.reshape(new_shape), n_y\n",
    "\n",
    "def unbalanced_data(X, y, num):\n",
    "    assert len(X) == len(y)\n",
    "    synX = []\n",
    "    synY = []\n",
    "    for _ in range (num):\n",
    "        r_i = random.randint(0, len(X) - 1)\n",
    "        synX.append(gen_image(X[r_i]))\n",
    "        synY.append(y[r_i])\n",
    "    n_X = np.array(synX)\n",
    "    n_y = np.array(synY)\n",
    "    shape = n_X.shape\n",
    "    new_shape = (*shape, 1)\n",
    "    return n_X.reshape(new_shape), n_y"
   ]
  },
  {
   "cell_type": "code",
   "execution_count": 38,
   "metadata": {
    "scrolled": true
   },
   "outputs": [],
   "source": [
    "### Preprocess the data here. It is required to normalize the data. Other preprocessing steps could include \n",
    "### converting to grayscale, etc.\n",
    "### Feel free to use as many code cells as needed.\n",
    "\n",
    "X_train, y_train = shuffle(X_train, y_train)\n",
    "\n",
    "X_train_p = gray_mean(X_train)\n",
    "\n",
    "# img = X_train_p[0]\n",
    "# plt.figure(figsize=(1,1))\n",
    "# plt.imshow(img.squeeze(), cmap='gray')\n",
    "\n",
    "newX = X_train_p\n",
    "newY = y_train\n",
    "\n",
    "# for i in range(43):\n",
    "    \n",
    "#     synX, synY = get_data(X_train_p,  y_train, i, 2020)\n",
    "#     newX = np.concatenate((newX, synX), axis=0)\n",
    "#     newY = np.concatenate((newY, synY), axis=0) \n",
    "    \n",
    "synX, synY = unbalanced_data(X_train_p,  y_train, 100000)   \n",
    "newX = np.concatenate((newX, synX), axis=0)\n",
    "newY = np.concatenate((newY, synY), axis=0)"
   ]
  },
  {
   "cell_type": "code",
   "execution_count": 39,
   "metadata": {},
   "outputs": [
    {
     "data": {
      "image/png": "[encoded data removed]",
      "text/plain": [
       "<matplotlib.figure.Figure at 0x133d3da58>"
      ]
     },
     "metadata": {},
     "output_type": "display_data"
    }
   ],
   "source": [
    "indeces = np.random.choice(len(newX), n)\n",
    "\n",
    "images = newX[indeces]\n",
    "labels = newY[indeces]\n",
    "\n",
    "%matplotlib inline\n",
    "for ind, img in enumerate(images):\n",
    "    plt.subplot(1,n,ind + 1)\n",
    "    plt.imshow(img.squeeze(), cmap=\"gray\")\n",
    "    plt.title(labels[ind])\n",
    "plt.show()"
   ]
  },
  {
   "cell_type": "code",
   "execution_count": 40,
   "metadata": {},
   "outputs": [
    {
     "data": {
      "image/png": "[encoded data removed]",
      "text/plain": [
       "<matplotlib.figure.Figure at 0x132c4c6d8>"
      ]
     },
     "metadata": {},
     "output_type": "display_data"
    },
    {
     "data": {
      "image/png": "[encoded data removed]",
      "text/plain": [
       "<matplotlib.figure.Figure at 0x12a49c9e8>"
      ]
     },
     "metadata": {},
     "output_type": "display_data"
    }
   ],
   "source": [
    "%matplotlib inline\n",
    "\n",
    "bins = np.unique(y_train)\n",
    "\n",
    "plot(newY, \"New Train Distribution\")\n",
    "plot(y_test, \"Test Distribution\")"
   ]
  },
  {
   "cell_type": "code",
   "execution_count": 41,
   "metadata": {},
   "outputs": [],
   "source": [
    "X_valid_p = gray_mean(X_valid)\n",
    "X_test_p = gray_mean(X_test)"
   ]
  },
  {
   "cell_type": "markdown",
   "metadata": {},
   "source": [
    "### Model Architecture"
   ]
  },
  {
   "cell_type": "code",
   "execution_count": 57,
   "metadata": {},
   "outputs": [],
   "source": [
    "### Define your architecture here.\n",
    "### Feel free to use as many code cells as needed.\n",
    "from tensorflow.contrib.layers import flatten\n",
    "import tensorflow as tf\n",
    "\n",
    "EPOCHS = 10\n",
    "BATCH_SIZE = 128\n",
    "\n",
    "A1 = None\n",
    "A2 = None\n",
    "A3 = None\n",
    "\n",
    "def LeNet(x):    \n",
    "    \n",
    "    global A1, A2, A3\n",
    "    \n",
    "    # Arguments used for tf.truncated_normal, randomly defines variables for the weights and biases for each layer\n",
    "    mu = 0\n",
    "    sigma = 0.1\n",
    "    # Layer 1: Convolutional. Input = 32x32x1. Output = 28x28x24.\n",
    "    # The shape of the filter weight is (height, width, input_depth, output_depth)\n",
    "    C1_w = tf.Variable(tf.truncated_normal(shape = (5, 5, 1, 24), mean=mu, stddev=sigma))\n",
    "    C1_b = tf.Variable(tf.zeros(24))\n",
    "    # The stride for each dimension (batch_size, height, width, depth)\n",
    "    C1 = tf.nn.conv2d(x, C1_w, strides = [1, 1, 1, 1], padding = 'VALID') + C1_b\n",
    "    # Activation.\n",
    "    A1 = tf.nn.relu(C1)\n",
    "\n",
    "    # Pooling. Input = 28x28x24. Output = 14x14x24.\n",
    "    # Set the ksize (filter size) for each dimension (batch_size, height, width, depth)\n",
    "    # Set the stride for each dimension (batch_size, height, width, depth)\n",
    "    P1 = tf.nn.max_pool(A1, ksize=[1, 2, 2, 1], strides=[1, 2, 2, 1], padding='VALID')\n",
    "\n",
    "    # Layer 2: Convolutional. Output = 10x10x48.\n",
    "    C2_w = tf.Variable(tf.truncated_normal(shape = (5, 5, 24, 48), mean=mu, stddev=sigma))\n",
    "    C2_b = tf.Variable(tf.zeros(48))\n",
    "    C2 = tf.nn.conv2d(P1, C2_w, strides = [1, 1, 1, 1], padding = 'VALID') + C2_b\n",
    "    \n",
    "    # Activation.\n",
    "    A2 = tf.nn.relu(C2)\n",
    "\n",
    "    # Pooling. Input = 10x10x48. Output = 5x5x48.\n",
    "    P2 = tf.nn.max_pool(A2, ksize=[1, 2, 2, 1], strides=[1, 2, 2, 1], padding='VALID')\n",
    "\n",
    "    # Flatten. Input = 5x5x48. Output = 1200.\n",
    "    F2 = flatten(P2)\n",
    "    \n",
    "    # Layer 3: Fully Connected. Input = 1200. Output = 120.\n",
    "    FC3_w = tf.Variable(tf.truncated_normal(shape = (1200, 120), mean=mu, stddev=sigma))\n",
    "    FC3_b = tf.Variable(tf.zeros(120))\n",
    "    FC3 = tf.matmul(F2, FC3_w) + FC3_b\n",
    "    \n",
    "    # Activation.\n",
    "    A3 = tf.nn.relu(FC3)\n",
    "    D3 = tf.nn.dropout(A3, keep_prob)\n",
    "    \n",
    "    # Layer 4: Fully Connected. Input = 120. Output = 84.\n",
    "    FC4_w = tf.Variable(tf.truncated_normal(shape = (120, 84), mean=mu, stddev=sigma))\n",
    "    FC4_b = tf.Variable(tf.zeros(84))\n",
    "    FC4 = tf.matmul(D3, FC4_w) + FC4_b\n",
    "    \n",
    "    # Activation.\n",
    "    A4 = tf.nn.relu(FC4)\n",
    "    D4 = tf.nn.dropout(A4, keep_prob)\n",
    "    \n",
    "    # Layer 5: Fully Connected. Input = 84. Output = 43.\n",
    "    FC5_w = tf.Variable(tf.truncated_normal(shape = (84, 43), mean=mu, stddev=sigma))\n",
    "    FC5_b = tf.Variable(tf.zeros(43))\n",
    "    logits = tf.matmul(D4, FC5_w) + FC5_b\n",
    "    \n",
    "    return logits"
   ]
  },
  {
   "cell_type": "markdown",
   "metadata": {},
   "source": [
    "### Train, Validate and Test the Model"
   ]
  },
  {
   "cell_type": "markdown",
   "metadata": {},
   "source": [
    "A validation set can be used to assess how well the model is performing. A low accuracy on the training and validation\n",
    "sets imply underfitting. A high accuracy on the training set but low accuracy on the validation set implies overfitting."
   ]
  },
  {
   "cell_type": "code",
   "execution_count": 43,
   "metadata": {},
   "outputs": [],
   "source": [
    "### Train your model here.\n",
    "### Calculate and report the accuracy on the training and validation set.\n",
    "### Once a final model architecture is selected, \n",
    "### the accuracy on the test set should be calculated and reported as well.\n",
    "### Feel free to use as many code cells as needed.\n",
    "x = tf.placeholder(tf.float32, (None, 32, 32, 1))\n",
    "y = tf.placeholder(tf.int32, (None))\n",
    "keep_prob = tf.placeholder(tf.float32)\n",
    "one_hot_y = tf.one_hot(y, 43)"
   ]
  },
  {
   "cell_type": "code",
   "execution_count": 44,
   "metadata": {},
   "outputs": [],
   "source": [
    "rate = 0.001\n",
    "\n",
    "logits = LeNet(x)\n",
    "cross_entropy = tf.nn.softmax_cross_entropy_with_logits(labels=one_hot_y, logits=logits)\n",
    "loss_operation = tf.reduce_mean(cross_entropy)\n",
    "optimizer = tf.train.AdamOptimizer(learning_rate = rate)\n",
    "training_operation = optimizer.minimize(loss_operation)"
   ]
  },
  {
   "cell_type": "code",
   "execution_count": 45,
   "metadata": {},
   "outputs": [],
   "source": [
    "correct_prediction = tf.equal(tf.argmax(logits, 1), tf.argmax(one_hot_y, 1))\n",
    "accuracy_operation = tf.reduce_mean(tf.cast(correct_prediction, tf.float32))\n",
    "saver = tf.train.Saver()\n",
    "\n",
    "def evaluate(X_data, y_data):\n",
    "    num_examples = len(X_data)\n",
    "    total_accuracy = 0\n",
    "    sess = tf.get_default_session()\n",
    "    for offset in range(0, num_examples, BATCH_SIZE):\n",
    "        batch_x, batch_y = X_data[offset:offset+BATCH_SIZE], y_data[offset:offset+BATCH_SIZE]\n",
    "        accuracy = sess.run(accuracy_operation, feed_dict={x: batch_x, y: batch_y, keep_prob:1})\n",
    "        total_accuracy += (accuracy * len(batch_x))\n",
    "    return total_accuracy / num_examples"
   ]
  },
  {
   "cell_type": "code",
   "execution_count": 58,
   "metadata": {},
   "outputs": [
    {
     "name": "stdout",
     "output_type": "stream",
     "text": [
      "Training...\n\n"
     ]
    },
    {
     "name": "stdout",
     "output_type": "stream",
     "text": [
      "EPOCH 1 ...\nValidation Accuracy = 0.849\n\n"
     ]
    },
    {
     "name": "stdout",
     "output_type": "stream",
     "text": [
      "EPOCH 2 ...\nValidation Accuracy = 0.935\n\n"
     ]
    },
    {
     "name": "stdout",
     "output_type": "stream",
     "text": [
      "EPOCH 3 ...\nValidation Accuracy = 0.961\n\n"
     ]
    },
    {
     "name": "stdout",
     "output_type": "stream",
     "text": [
      "EPOCH 4 ...\nValidation Accuracy = 0.966\n\n"
     ]
    },
    {
     "name": "stdout",
     "output_type": "stream",
     "text": [
      "EPOCH 5 ...\nValidation Accuracy = 0.973\n\n"
     ]
    },
    {
     "name": "stdout",
     "output_type": "stream",
     "text": [
      "EPOCH 6 ...\nValidation Accuracy = 0.973\n\n"
     ]
    },
    {
     "name": "stdout",
     "output_type": "stream",
     "text": [
      "EPOCH 7 ...\nValidation Accuracy = 0.978\n\n"
     ]
    },
    {
     "name": "stdout",
     "output_type": "stream",
     "text": [
      "EPOCH 8 ...\nValidation Accuracy = 0.976\n\n"
     ]
    },
    {
     "name": "stdout",
     "output_type": "stream",
     "text": [
      "EPOCH 9 ...\nValidation Accuracy = 0.986\n\n"
     ]
    },
    {
     "name": "stdout",
     "output_type": "stream",
     "text": [
      "EPOCH 10 ...\nValidation Accuracy = 0.976\n\n"
     ]
    },
    {
     "name": "stdout",
     "output_type": "stream",
     "text": [
      "Model saved\n"
     ]
    }
   ],
   "source": [
    "with tf.Session() as sess:\n",
    "    sess.run(tf.global_variables_initializer())\n",
    "    num_examples = len(X_train_p)\n",
    "    \n",
    "    print(\"Training...\")\n",
    "    print()\n",
    "    for i in range(EPOCHS):\n",
    "        X_train_p, y_train = shuffle(newX, newY)\n",
    "        for offset in range(0, num_examples, BATCH_SIZE):\n",
    "            end = offset + BATCH_SIZE\n",
    "            batch_x, batch_y = X_train_p[offset:end], y_train[offset:end]\n",
    "            sess.run(training_operation, feed_dict={x: batch_x, y: batch_y, keep_prob:0.5})\n",
    "            \n",
    "        validation_accuracy = evaluate(X_valid_p, y_valid)\n",
    "\n",
    "        \n",
    "        print(\"EPOCH {} ...\".format(i+1))\n",
    "        print(\"Validation Accuracy = {:.3f}\".format(validation_accuracy))\n",
    "\n",
    "        print()\n",
    "        \n",
    "    saver.save(sess, './lenet')\n",
    "    print(\"Model saved\")"
   ]
  },
  {
   "cell_type": "code",
   "execution_count": 59,
   "metadata": {},
   "outputs": [
    {
     "name": "stdout",
     "output_type": "stream",
     "text": [
      "INFO:tensorflow:Restoring parameters from ./lenet\n"
     ]
    },
    {
     "name": "stdout",
     "output_type": "stream",
     "text": [
      "Test Accuracy = 0.964\n"
     ]
    }
   ],
   "source": [
    "with tf.Session() as sess:\n",
    "    # saver.restore(sess, tf.train.latest_checkpoint('.'))\n",
    "    saver.restore(sess, './lenet')\n",
    "    test_accuracy = evaluate(X_test_p, y_test)\n",
    "    print(\"Test Accuracy = {:.3f}\".format(test_accuracy))"
   ]
  },
  {
   "cell_type": "markdown",
   "metadata": {},
   "source": [
    "---\n",
    "\n",
    "## Step 3: Test a Model on New Images\n",
    "\n",
    "To give yourself more insight into how your model is working, download at least five pictures of German traffic signs from the web and use your model to predict the traffic sign type.\n",
    "\n",
    "You may find `signnames.csv` useful as it contains mappings from the class id (integer) to the actual sign name."
   ]
  },
  {
   "cell_type": "markdown",
   "metadata": {},
   "source": [
    "### Load and Output the Images"
   ]
  },
  {
   "cell_type": "code",
   "execution_count": 60,
   "metadata": {},
   "outputs": [
    {
     "name": "stdout",
     "output_type": "stream",
     "text": [
      "Default images\n"
     ]
    }
   ],
   "source": [
    "### Load the images and plot them here.\n",
    "### Feel free to use as many code cells as needed.\n",
    "print('Default images')\n",
    "dir = 'signs'\n",
    "img_names = [dir + '/' + file for file in os.listdir(dir)]\n",
    "images = []\n",
    "labels = []\n",
    "for i, name in enumerate(img_names):\n",
    "    img = cv2.imread(name)\n",
    "    img = cv2.cvtColor(img, cv2.COLOR_BGR2RGB)\n",
    "    labels.append(name.split('/')[1].split('.')[0])\n",
    "    images.append(img)\n",
    "    plt.subplot(1, len(img_names), i+1)\n",
    "    plt.title(labels[i])\n",
    "    plt.imshow(img)\n",
    "plt.show()\n",
    "images = np.array(images)"
   ]
  },
  {
   "cell_type": "markdown",
   "metadata": {},
   "source": [
    "### Predict the Sign Type for Each Image"
   ]
  },
  {
   "cell_type": "code",
   "execution_count": 61,
   "metadata": {},
   "outputs": [
    {
     "name": "stdout",
     "output_type": "stream",
     "text": [
      "Pre-processed images\n"
     ]
    },
    {
     "data": {
      "image/png": "[encoded data removed]",
      "text/plain": [
       "<matplotlib.figure.Figure at 0x133da03c8>"
      ]
     },
     "metadata": {},
     "output_type": "display_data"
    }
   ],
   "source": [
    "### Make sure to pre-process the images with the same pre-processing pipeline used earlier.\n",
    "print('Pre-processed images')\n",
    "pp_images = gray_mean(images)\n",
    "for i, img in enumerate(pp_images):\n",
    "      plt.subplot(1, len(pp_images), i+1)\n",
    "      plt.title(labels[i])\n",
    "      plt.imshow(img.squeeze(), cmap=\"gray\")\n",
    "plt.show()"
   ]
  },
  {
   "cell_type": "code",
   "execution_count": 67,
   "metadata": {},
   "outputs": [
    {
     "name": "stdout",
     "output_type": "stream",
     "text": [
      "INFO:tensorflow:Restoring parameters from ./lenet\n"
     ]
    },
    {
     "name": "stdout",
     "output_type": "stream",
     "text": [
      "[[  0.00000000e+00   0.00000000e+00   9.55911984e-23   7.02757216e-36\n    0.00000000e+00   0.00000000e+00   0.00000000e+00   0.00000000e+00\n    0.00000000e+00   0.00000000e+00   0.00000000e+00   0.00000000e+00\n    4.26829336e-22   1.00000000e+00   1.23051353e-38   2.41283558e-29\n    0.00000000e+00   0.00000000e+00   0.00000000e+00   0.00000000e+00\n    0.00000000e+00   0.00000000e+00   0.00000000e+00   0.00000000e+00\n    0.00000000e+00   1.03887390e-34   0.00000000e+00   0.00000000e+00\n    0.00000000e+00   0.00000000e+00   0.00000000e+00   0.00000000e+00\n    0.00000000e+00   0.00000000e+00   6.08000131e-36   1.47342670e-33\n    0.00000000e+00   0.00000000e+00   4.20752423e-30   6.08385708e-27\n    0.00000000e+00   0.00000000e+00   0.00000000e+00]\n [  3.36029220e-18   9.25012245e-08   2.49437689e-05   3.19879812e-09\n    1.04461702e-08   8.59147334e-13   3.63530794e-27   4.49830082e-18\n    4.99067801e-11   3.46012202e-05   8.05256190e-18   1.36892503e-32\n    1.60111242e-07   2.65446801e-07   5.19914840e-13   9.99939919e-01\n    1.11926425e-23   1.07270959e-22   1.12837505e-29   4.60479660e-19\n    7.71073381e-33   1.48072716e-30   6.74999025e-19   3.93057249e-26\n    1.86205772e-30   3.93678363e-19   6.18962760e-19   0.00000000e+00\n    4.34764664e-25   2.66251572e-16   3.35794728e-33   8.71766829e-32\n    8.58204459e-08   3.07325063e-21   3.99582080e-19   8.47106185e-13\n    8.36632618e-23   1.23530152e-17   7.27792460e-14   2.71347435e-17\n    8.58325720e-19   2.12391614e-13   1.75007829e-27]\n [  0.00000000e+00   7.65400232e-15   1.00000000e+00   5.26315926e-24\n    3.43310825e-32   9.16895554e-24   0.00000000e+00   6.91271034e-36\n    0.00000000e+00   0.00000000e+00   0.00000000e+00   0.00000000e+00\n    0.00000000e+00   0.00000000e+00   0.00000000e+00   5.83818428e-37\n    0.00000000e+00   0.00000000e+00   0.00000000e+00   0.00000000e+00\n    0.00000000e+00   0.00000000e+00   0.00000000e+00   0.00000000e+00\n    0.00000000e+00   0.00000000e+00   0.00000000e+00   0.00000000e+00\n    0.00000000e+00   0.00000000e+00   0.00000000e+00   0.00000000e+00\n    0.00000000e+00   0.00000000e+00   0.00000000e+00   0.00000000e+00\n    0.00000000e+00   0.00000000e+00   6.47234649e-37   0.00000000e+00\n    0.00000000e+00   0.00000000e+00   0.00000000e+00]\n [  0.00000000e+00   3.45785121e-28   1.80384824e-33   1.79682163e-19\n    0.00000000e+00   2.21962061e-38   8.96998250e-34   0.00000000e+00\n    0.00000000e+00   1.05879360e-35   5.94820168e-37   2.50487250e-26\n    6.04534125e-26   6.25549780e-17   2.78753631e-22   1.08885844e-28\n    0.00000000e+00   6.89939227e-25   1.12773563e-24   0.00000000e+00\n    4.83530424e-28   0.00000000e+00   1.95229207e-27   6.51876637e-34\n    0.00000000e+00   1.05111763e-23   2.30984420e-32   0.00000000e+00\n    6.93838772e-29   1.69909535e-34   1.62668434e-26   0.00000000e+00\n    8.28467428e-21   3.69843363e-33   1.00000000e+00   4.79772777e-14\n    7.86266539e-16   1.58027298e-19   6.29754582e-12   1.79331570e-34\n    3.64286571e-37   0.00000000e+00   0.00000000e+00]\n [  2.38406361e-08   5.42280034e-08   1.56789664e-12   4.02887608e-08\n    1.28823784e-14   6.19262611e-17   1.03129675e-11   1.98422534e-18\n    5.69349739e-18   1.87401872e-09   4.02979597e-13   6.93779567e-09\n    1.55886166e-12   1.14945948e-07   2.43030700e-11   1.30533269e-12\n    4.89385442e-11   4.56815592e-11   7.55276258e-11   2.31636488e-09\n    2.03850110e-12   1.06081506e-12   2.02663429e-12   2.96552084e-12\n    1.17077415e-11   1.11329246e-09   1.61392568e-12   6.86641976e-12\n    2.92286439e-09   4.23614008e-12   1.86604846e-11   6.52923108e-15\n    5.08757064e-11   1.15941766e-05   6.40108965e-07   1.84848279e-04\n    8.91663454e-09   9.99801457e-01   3.21544657e-12   1.05874653e-06\n    8.18277428e-08   1.96893630e-12   3.22556478e-15]\n [  2.45865713e-14   2.03580925e-07   3.88607480e-11   2.36768053e-14\n    1.00986258e-14   2.17686980e-11   2.10192239e-10   1.23989442e-03\n    1.08274221e-15   2.39089502e-16   9.80194048e-14   1.48572726e-05\n    3.64610198e-04   2.43282445e-13   5.62657837e-11   1.02966440e-18\n    5.70790455e-08   1.05015275e-07   1.91819824e-12   6.33264125e-14\n    5.05835953e-16   1.02308162e-09   1.91142557e-21   3.34336373e-13\n    1.16971399e-16   2.71947856e-13   3.38460369e-15   2.66169205e-12\n    1.12672812e-16   9.18503834e-18   7.68762547e-08   4.86652827e-15\n    4.05124637e-13   2.18204850e-08   1.61324665e-12   1.16095209e-16\n    7.07181773e-16   1.43882994e-09   3.04381942e-09   1.32660193e-06\n    9.98378634e-01   9.31041336e-14   2.01683662e-07]]\n"
     ]
    }
   ],
   "source": [
    "### Run the predictions here and use the model to output the prediction for each image.\n",
    "### Feel free to use as many code cells as needed.\n",
    "with tf.Session() as sess:\n",
    "    saver.restore(sess, './lenet')\n",
    "    softmax = tf.nn.softmax(logits)\n",
    "    top_5 = tf.nn.top_k(softmax, k=5)\n",
    "    out, indeces = sess.run(top_5, feed_dict={x: pp_images, keep_prob: 1.})\n",
    "    predicts = sess.run(tf.nn.softmax(logits, 1), feed_dict={x: pp_images, keep_prob: 1.})"
   ]
  },
  {
   "cell_type": "code",
   "execution_count": 51,
   "metadata": {},
   "outputs": [],
   "source": [
    "# laod signnames.csv\n",
    "names = {}\n",
    "with open('./signnames.csv', 'r') as f:\n",
    "    for i, line in enumerate(f):\n",
    "        if(i > 0):\n",
    "            s_id, name = line.split(',')\n",
    "            s_id = int(s_id)\n",
    "            names[s_id] = name"
   ]
  },
  {
   "cell_type": "code",
   "execution_count": 71,
   "metadata": {},
   "outputs": [
    {
     "data": {
      "image/png": "[encoded data removed]",
      "text/plain": [
       "<matplotlib.figure.Figure at 0x132f4a940>"
      ]
     },
     "metadata": {},
     "output_type": "display_data"
    },
    {
     "name": "stdout",
     "output_type": "stream",
     "text": [
      "Yield\n\n"
     ]
    },
    {
     "data": {
      "image/png": "[encoded data removed]",
      "text/plain": [
       "<matplotlib.figure.Figure at 0x133da3748>"
      ]
     },
     "metadata": {},
     "output_type": "display_data"
    },
    {
     "name": "stdout",
     "output_type": "stream",
     "text": [
      "No vehicles\n\n"
     ]
    },
    {
     "data": {
      "image/png": "[encoded data removed]",
      "text/plain": [
       "<matplotlib.figure.Figure at 0x133c30b38>"
      ]
     },
     "metadata": {},
     "output_type": "display_data"
    },
    {
     "name": "stdout",
     "output_type": "stream",
     "text": [
      "Speed limit (50km/h)\n\n"
     ]
    },
    {
     "data": {
      "image/png": "[encoded data removed]",
      "text/plain": [
       "<matplotlib.figure.Figure at 0x12a51a5c0>"
      ]
     },
     "metadata": {},
     "output_type": "display_data"
    },
    {
     "name": "stdout",
     "output_type": "stream",
     "text": [
      "Turn left ahead\n\n"
     ]
    },
    {
     "data": {
      "image/png": "[encoded data removed]",
      "text/plain": [
       "<matplotlib.figure.Figure at 0x12a3d60f0>"
      ]
     },
     "metadata": {},
     "output_type": "display_data"
    },
    {
     "name": "stdout",
     "output_type": "stream",
     "text": [
      "Go straight or left\n\n"
     ]
    },
    {
     "data": {
      "image/png": "[encoded data removed]",
      "text/plain": [
       "<matplotlib.figure.Figure at 0x12a47f860>"
      ]
     },
     "metadata": {},
     "output_type": "display_data"
    },
    {
     "name": "stdout",
     "output_type": "stream",
     "text": [
      "Roundabout mandatory\n\n"
     ]
    }
   ],
   "source": [
    "for img, p in zip(images, predicts):\n",
    "    ind = np.argmax(p)\n",
    "    plt.figure(figsize=(2,2))\n",
    "    plt.imshow(img)\n",
    "    plt.show()\n",
    "    print(names[ind])"
   ]
  },
  {
   "cell_type": "markdown",
   "metadata": {},
   "source": [
    "### Output Top 5 Softmax Probabilities For Each Image Found on the Web"
   ]
  },
  {
   "cell_type": "code",
   "execution_count": 52,
   "metadata": {},
   "outputs": [
    {
     "data": {
      "image/png": "[encoded data removed]",
      "text/plain": [
       "<matplotlib.figure.Figure at 0x133c09f98>"
      ]
     },
     "metadata": {},
     "output_type": "display_data"
    },
    {
     "name": "stdout",
     "output_type": "stream",
     "text": [
      "Yield 100.000%\nPriority road 0.000%\nNo vehicles 0.000%\nTurn left ahead 0.000%\nAhead only 0.000%\n"
     ]
    },
    {
     "data": {
      "image/png": "[encoded data removed]",
      "text/plain": [
       "<matplotlib.figure.Figure at 0x119430e48>"
      ]
     },
     "metadata": {},
     "output_type": "display_data"
    },
    {
     "name": "stdout",
     "output_type": "stream",
     "text": [
      "No vehicles 96.691%\nNo passing 2.169%\nYield 0.698%\nPriority road 0.382%\nSpeed limit (50km/h) 0.025%\n"
     ]
    },
    {
     "data": {
      "image/png": "[encoded data removed]",
      "text/plain": [
       "<matplotlib.figure.Figure at 0x181fd7cf8>"
      ]
     },
     "metadata": {},
     "output_type": "display_data"
    },
    {
     "name": "stdout",
     "output_type": "stream",
     "text": [
      "Speed limit (50km/h) 100.000%\nSpeed limit (80km/h) 0.000%\nSpeed limit (30km/h) 0.000%\nSpeed limit (100km/h) 0.000%\nSpeed limit (60km/h) 0.000%\n"
     ]
    },
    {
     "data": {
      "image/png": "[encoded data removed]",
      "text/plain": [
       "<matplotlib.figure.Figure at 0x133d880f0>"
      ]
     },
     "metadata": {},
     "output_type": "display_data"
    },
    {
     "name": "stdout",
     "output_type": "stream",
     "text": [
      "Turn left ahead 100.000%\nGo straight or right 0.000%\nAhead only 0.000%\nKeep right 0.000%\nGo straight or left 0.000%\n"
     ]
    },
    {
     "data": {
      "image/png": "[encoded data removed]",
      "text/plain": [
       "<matplotlib.figure.Figure at 0x12a3e1e48>"
      ]
     },
     "metadata": {},
     "output_type": "display_data"
    },
    {
     "name": "stdout",
     "output_type": "stream",
     "text": [
      "Go straight or left 91.409%\nKeep left 8.065%\nTurn right ahead 0.138%\nRoundabout mandatory 0.132%\nSpeed limit (20km/h) 0.068%\n"
     ]
    },
    {
     "data": {
      "image/png": "[encoded data removed]",
      "text/plain": [
       "<matplotlib.figure.Figure at 0x13c06f240>"
      ]
     },
     "metadata": {},
     "output_type": "display_data"
    },
    {
     "name": "stdout",
     "output_type": "stream",
     "text": [
      "Roundabout mandatory 73.698%\nPriority road 15.961%\nSpeed limit (100km/h) 6.128%\nEnd of no passing by vehicles over 3.5 metric tons 1.411%\nVehicles over 3.5 metric tons prohibited 1.125%\n"
     ]
    }
   ],
   "source": [
    "# top 5 Predictions\n",
    "for i, img in enumerate(images):\n",
    "     plt.figure(figsize=(2,2))\n",
    "     plt.imshow(img)\n",
    "     plt.show()\n",
    "     for ind, value in zip(indeces[i], out[i]):\n",
    "         print(names[ind].rstrip(), '{:.3f}%'.format(100*value))"
   ]
  },
  {
   "cell_type": "markdown",
   "metadata": {},
   "source": [
    "### Analyze Performance"
   ]
  },
  {
   "cell_type": "code",
   "execution_count": 63,
   "metadata": {},
   "outputs": [
    {
     "name": "stdout",
     "output_type": "stream",
     "text": [
      "INFO:tensorflow:Restoring parameters from ./lenet\n"
     ]
    },
    {
     "name": "stdout",
     "output_type": "stream",
     "text": [
      "New images accuracy = 1.000\n"
     ]
    }
   ],
   "source": [
    "### Calculate the accuracy for these 5 new images. \n",
    "### For example, if the model predicted 1 out of 5 signs correctly, it's 20% accurate on these new images.\n",
    "# saver.restore(sess, tf.train.latest_checkpoint('.'))\n",
    "\n",
    "with tf.Session() as sess:\n",
    "    saver.restore(sess, tf.train.latest_checkpoint('.'))\n",
    "    test_accuracy = evaluate(pp_images, labels)\n",
    "    print(\"New images accuracy = {:.3f}\".format(test_accuracy))"
   ]
  },
  {
   "cell_type": "markdown",
   "metadata": {},
   "source": [
    "### Project Writeup\n",
    "\n",
    "Once you have completed the code implementation, document your results in a project writeup using this [template](https://github.com/udacity/CarND-Traffic-Sign-Classifier-Project/blob/master/writeup_template.md) as a guide. The writeup can be in a markdown or pdf file. "
   ]
  },
  {
   "cell_type": "markdown",
   "metadata": {},
   "source": [
    "> **Note**: Once you have completed all of the code implementations and successfully answered each question above, you may finalize your work by exporting the iPython Notebook as an HTML document. You can do this by using the menu above and navigating to  \\n\",\n",
    "    \"**File -> Download as -> HTML (.html)**. Include the finished document along with this notebook as your submission."
   ]
  },
  {
   "cell_type": "markdown",
   "metadata": {},
   "source": [
    "---\n",
    "\n",
    "## Step 4 (Optional): Visualize the Neural Network's State with Test Images\n",
    "\n",
    " This Section is not required to complete but acts as an additional excersise for understaning the output of a neural network's weights. While neural networks can be a great learning device they are often referred to as a black box. We can understand what the weights of a neural network look like better by plotting their feature maps. After successfully training your neural network you can see what it's feature maps look like by plotting the output of the network's weight layers in response to a test stimuli image. From these plotted feature maps, it's possible to see what characteristics of an image the network finds interesting. For a sign, maybe the inner network feature maps react with high activation to the sign's boundary outline or to the contrast in the sign's painted symbol.\n",
    "\n",
    " Provided for you below is the function code that allows you to get the visualization output of any tensorflow weight layer you want. The inputs to the function should be a stimuli image, one used during training or a new one you provided, and then the tensorflow variable name that represents the layer's state during the training process, for instance if you wanted to see what the [LeNet lab's](https://classroom.udacity.com/nanodegrees/nd013/parts/fbf77062-5703-404e-b60c-95b78b2f3f9e/modules/6df7ae49-c61c-4bb2-a23e-6527e69209ec/lessons/601ae704-1035-4287-8b11-e2c2716217ad/concepts/d4aca031-508f-4e0b-b493-e7b706120f81) feature maps looked like for it's second convolutional layer you could enter conv2 as the tf_activation variable.\n",
    "\n",
    "For an example of what feature map outputs look like, check out NVIDIA's results in their paper [End-to-End Deep Learning for Self-Driving Cars](https://devblogs.nvidia.com/parallelforall/deep-learning-self-driving-cars/) in the section Visualization of internal CNN State. NVIDIA was able to show that their network's inner weights had high activations to road boundary lines by comparing feature maps from an image with a clear path to one without. Try experimenting with a similar test to show that your trained network's weights are looking for interesting features, whether it's looking at differences in feature maps from images with or without a sign, or even what feature maps look like in a trained network vs a completely untrained one on the same sign image.\n",
    "\n",
    "<figure>\n",
    " <img src=\"visualize_cnn.png\" width=\"380\" alt=\"Combined Image\" />\n",
    " <figcaption>\n",
    " <p></p> \n",
    " <p style=\"text-align: center;\"> Your output should look something like this (above)</p> \n",
    " </figcaption>\n",
    "</figure>\n",
    " <p></p> \n"
   ]
  },
  {
   "cell_type": "code",
   "execution_count": 66,
   "metadata": {},
   "outputs": [
    {
     "name": "stdout",
     "output_type": "stream",
     "text": [
      "INFO:tensorflow:Restoring parameters from ./lenet\n"
     ]
    },
    {
     "name": "stdout",
     "output_type": "stream",
     "text": [
      "Tensor(\"add_9:0\", shape=(?, 43), dtype=float32)\nNone\n"
     ]
    },
    {
     "ename": "AttributeError",
     "evalue": "'NoneType' object has no attribute 'eval'",
     "traceback": [
      "\u001b[0;31m---------------------------------------------------------------------------\u001b[0m",
      "\u001b[0;31mAttributeError\u001b[0m                            Traceback (most recent call last)",
      "\u001b[0;32m<ipython-input-66-9294b53f1631>\u001b[0m in \u001b[0;36m<module>\u001b[0;34m()\u001b[0m\n\u001b[1;32m     32\u001b[0m     \u001b[0mprint\u001b[0m\u001b[0;34m(\u001b[0m\u001b[0mlogits\u001b[0m\u001b[0;34m)\u001b[0m\u001b[0;34m\u001b[0m\u001b[0m\n\u001b[1;32m     33\u001b[0m     \u001b[0mprint\u001b[0m\u001b[0;34m(\u001b[0m\u001b[0mA1\u001b[0m\u001b[0;34m)\u001b[0m\u001b[0;34m\u001b[0m\u001b[0m\n\u001b[0;32m---> 34\u001b[0;31m     \u001b[0moutputFeatureMap\u001b[0m\u001b[0;34m(\u001b[0m\u001b[0mpp_images\u001b[0m\u001b[0;34m[\u001b[0m\u001b[0;36m0\u001b[0m\u001b[0;34m]\u001b[0m\u001b[0;34m,\u001b[0m \u001b[0mA1\u001b[0m\u001b[0;34m)\u001b[0m\u001b[0;34m\u001b[0m\u001b[0m\n\u001b[0m",
      "\u001b[0;32m<ipython-input-66-9294b53f1631>\u001b[0m in \u001b[0;36moutputFeatureMap\u001b[0;34m(image_input, tf_activation, activation_min, activation_max, plt_num)\u001b[0m\n\u001b[1;32m     13\u001b[0m     \u001b[0;31m# Note: x should be the same name as your network's tensorflow data placeholder variable\u001b[0m\u001b[0;34m\u001b[0m\u001b[0;34m\u001b[0m\u001b[0m\n\u001b[1;32m     14\u001b[0m     \u001b[0;31m# If you get an error tf_activation is not defined it may be having trouble accessing the variable from inside a function\u001b[0m\u001b[0;34m\u001b[0m\u001b[0;34m\u001b[0m\u001b[0m\n\u001b[0;32m---> 15\u001b[0;31m     \u001b[0mactivation\u001b[0m \u001b[0;34m=\u001b[0m \u001b[0mtf_activation\u001b[0m\u001b[0;34m.\u001b[0m\u001b[0meval\u001b[0m\u001b[0;34m(\u001b[0m\u001b[0msession\u001b[0m\u001b[0;34m=\u001b[0m\u001b[0msess\u001b[0m\u001b[0;34m,\u001b[0m\u001b[0mfeed_dict\u001b[0m\u001b[0;34m=\u001b[0m\u001b[0;34m{\u001b[0m\u001b[0mx\u001b[0m \u001b[0;34m:\u001b[0m \u001b[0mimage_input\u001b[0m\u001b[0;34m}\u001b[0m\u001b[0;34m)\u001b[0m\u001b[0;34m\u001b[0m\u001b[0m\n\u001b[0m\u001b[1;32m     16\u001b[0m     \u001b[0mfeaturemaps\u001b[0m \u001b[0;34m=\u001b[0m \u001b[0mactivation\u001b[0m\u001b[0;34m.\u001b[0m\u001b[0mshape\u001b[0m\u001b[0;34m[\u001b[0m\u001b[0;36m3\u001b[0m\u001b[0;34m]\u001b[0m\u001b[0;34m\u001b[0m\u001b[0m\n\u001b[1;32m     17\u001b[0m     \u001b[0mplt\u001b[0m\u001b[0;34m.\u001b[0m\u001b[0mfigure\u001b[0m\u001b[0;34m(\u001b[0m\u001b[0mplt_num\u001b[0m\u001b[0;34m,\u001b[0m \u001b[0mfigsize\u001b[0m\u001b[0;34m=\u001b[0m\u001b[0;34m(\u001b[0m\u001b[0;36m15\u001b[0m\u001b[0;34m,\u001b[0m\u001b[0;36m15\u001b[0m\u001b[0;34m)\u001b[0m\u001b[0;34m)\u001b[0m\u001b[0;34m\u001b[0m\u001b[0m\n",
      "\u001b[0;31mAttributeError\u001b[0m: 'NoneType' object has no attribute 'eval'"
     ],
     "output_type": "error"
    }
   ],
   "source": [
    "### Visualize your network's feature maps here.\n",
    "### Feel free to use as many code cells as needed.\n",
    "\n",
    "# image_input: the test image being fed into the network to produce the feature maps\n",
    "# tf_activation: should be a tf variable name used during your training procedure that represents the calculated state of a specific weight layer\n",
    "# activation_min/max: can be used to view the activation contrast in more detail, by default matplot sets min and max to the actual min and max values of the output\n",
    "# plt_num: used to plot out multiple different weight feature map sets on the same block, just extend the plt number for each new feature map entry\n",
    "\n",
    "def outputFeatureMap(image_input, tf_activation, activation_min=-1, activation_max=-1 ,plt_num=1):\n",
    "    # Here make sure to preprocess your image_input in a way your network expects\n",
    "    # with size, normalization, ect if needed\n",
    "    # image_input =\n",
    "    # Note: x should be the same name as your network's tensorflow data placeholder variable\n",
    "    # If you get an error tf_activation is not defined it may be having trouble accessing the variable from inside a function\n",
    "    activation = tf_activation.eval(session=sess,feed_dict={x : image_input})\n",
    "    featuremaps = activation.shape[3]\n",
    "    plt.figure(plt_num, figsize=(15,15))\n",
    "    for featuremap in range(featuremaps):\n",
    "        plt.subplot(6,8, featuremap+1) # sets the number of feature maps to show on each row and column\n",
    "        plt.title('FeatureMap ' + str(featuremap)) # displays the feature map number\n",
    "        if activation_min != -1 & activation_max != -1:\n",
    "            plt.imshow(activation[0,:,:, featuremap], interpolation=\"nearest\", vmin =activation_min, vmax=activation_max, cmap=\"gray\")\n",
    "        elif activation_max != -1:\n",
    "            plt.imshow(activation[0,:,:, featuremap], interpolation=\"nearest\", vmax=activation_max, cmap=\"gray\")\n",
    "        elif activation_min !=-1:\n",
    "            plt.imshow(activation[0,:,:, featuremap], interpolation=\"nearest\", vmin=activation_min, cmap=\"gray\")\n",
    "        else:\n",
    "            plt.imshow(activation[0,:,:, featuremap], interpolation=\"nearest\", cmap=\"gray\")\n",
    "            \n",
    "with tf.Session() as sess:\n",
    "    saver.restore(sess, './lenet')\n",
    "    print(logits)\n",
    "    print(A1)\n",
    "    outputFeatureMap(pp_images[0], A1)"
   ]
  },
  {
   "cell_type": "code",
   "execution_count": null,
   "metadata": {},
   "outputs": [],
   "source": [
    ""
   ]
  }
 ],
 "metadata": {
  "anaconda-cloud": {},
  "kernelspec": {
   "display_name": "Python 3",
   "language": "python",
   "name": "python3"
  },
  "language_info": {
   "codemirror_mode": {
    "name": "ipython",
    "version": 3.0
   },
   "file_extension": ".py",
   "mimetype": "text/x-python",
   "name": "python",
   "nbconvert_exporter": "python",
   "pygments_lexer": "ipython3",
   "version": "3.5.2"
  },
  "widgets": {
   "state": {},
   "version": "1.1.2"
  }
 },
 "nbformat": 4,
 "nbformat_minor": 0
}